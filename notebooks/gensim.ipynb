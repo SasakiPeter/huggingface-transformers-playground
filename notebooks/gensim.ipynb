{
 "cells": [
  {
   "cell_type": "markdown",
   "id": "8129341a-a57f-4b6e-93e2-61e6688d203b",
   "metadata": {},
   "source": [
    "# gensim"
   ]
  },
  {
   "cell_type": "code",
   "execution_count": 1,
   "id": "cfe68265-2187-4c97-92b2-b3cda6a10cab",
   "metadata": {},
   "outputs": [],
   "source": [
    "import os\n",
    "import sys\n",
    "from pathlib import Path"
   ]
  },
  {
   "cell_type": "code",
   "execution_count": 2,
   "id": "0abae864-95b1-4e9d-a88d-1ec728f00403",
   "metadata": {},
   "outputs": [],
   "source": [
    "sys.path.append(os.path.join(Path().resolve(), '../src'))"
   ]
  },
  {
   "cell_type": "code",
   "execution_count": 3,
   "id": "a0b3c6d4-ce14-43fc-a71b-da24ed5b40ee",
   "metadata": {},
   "outputs": [],
   "source": [
    "import gensim"
   ]
  },
  {
   "cell_type": "code",
   "execution_count": 4,
   "id": "ef2e785e-9bcc-4a9f-ae22-c55c0dcf5423",
   "metadata": {},
   "outputs": [],
   "source": [
    "text = '私はお団子が大好き'\n",
    "article = '僕らの生まれてくるずっとずっと前にはもう、アポロ１１号は月に行ったっていうのに。みんながチェック入れてる限定の君の腕時計はデジタル仕様。それって僕のより早く進むって本当かい？ただ壊れてる。'"
   ]
  },
  {
   "cell_type": "code",
   "execution_count": 21,
   "id": "ec881517-0299-41d2-ba6b-f2c052fcb0be",
   "metadata": {},
   "outputs": [],
   "source": [
    "from transformers import AutoModelForSequenceClassification, BertJapaneseTokenizer"
   ]
  },
  {
   "cell_type": "code",
   "execution_count": 30,
   "id": "a68eaf11-83e2-48f2-8e06-74695010e873",
   "metadata": {},
   "outputs": [],
   "source": [
    "tokenizer = BertJapaneseTokenizer.from_pretrained('cl-tohoku/bert-base-japanese-whole-word-masking')"
   ]
  },
  {
   "cell_type": "code",
   "execution_count": 31,
   "id": "dae835c8-a0e7-4a8d-8f69-a9018dab7a5c",
   "metadata": {},
   "outputs": [],
   "source": [
    "# tokenizer.tokenize(article)"
   ]
  },
  {
   "cell_type": "markdown",
   "id": "c8626508-fe0c-4959-a4e7-45a9b8b05f2d",
   "metadata": {},
   "source": [
    "## 　word2vec"
   ]
  },
  {
   "cell_type": "code",
   "execution_count": 5,
   "id": "b017a203-0fdc-4df6-9d9c-5f2363d69e04",
   "metadata": {},
   "outputs": [],
   "source": [
    "model = gensim.models.KeyedVectors.load_word2vec_format('model.vec', binary=False)"
   ]
  },
  {
   "cell_type": "code",
   "execution_count": 6,
   "id": "d467d22f-90dd-465f-b917-f98135735a62",
   "metadata": {},
   "outputs": [
    {
     "data": {
      "text/plain": [
       "[('進化的アルゴリズム', 0.713220477104187),\n",
       " ('遺伝的アルゴリズム', 0.6929396986961365),\n",
       " ('アルゴリズム情報理論', 0.6830018162727356),\n",
       " ('決定的アルゴリズム', 0.679979145526886),\n",
       " ('アルゴリズム', 0.6766400337219238),\n",
       " ('組合せ最適化', 0.6756596565246582),\n",
       " ('ニューラルネットワーク', 0.6749128699302673),\n",
       " ('乱択アルゴリズム', 0.6715477108955383),\n",
       " ('データマイニング', 0.6635973453521729),\n",
       " ('コンパイラ最適化', 0.6590137481689453)]"
      ]
     },
     "execution_count": 6,
     "metadata": {},
     "output_type": "execute_result"
    }
   ],
   "source": [
    "model.most_similar('機械学習')"
   ]
  },
  {
   "cell_type": "code",
   "execution_count": 12,
   "id": "149e24e9-4e74-4e0f-b86c-7c57d65634d9",
   "metadata": {},
   "outputs": [
    {
     "data": {
      "text/plain": [
       "(300,)"
      ]
     },
     "execution_count": 12,
     "metadata": {},
     "output_type": "execute_result"
    }
   ],
   "source": [
    "model.get_vector('機械学習').shape"
   ]
  },
  {
   "cell_type": "code",
   "execution_count": 18,
   "id": "cf512e44-6588-4147-902f-0bdbf810c874",
   "metadata": {},
   "outputs": [
    {
     "data": {
      "text/plain": [
       "[('甥', 0.7477808594703674),\n",
       " ('叔父', 0.6980079412460327),\n",
       " ('妹', 0.6880642771720886),\n",
       " ('従弟', 0.6875512003898621),\n",
       " ('叔母', 0.6860734224319458),\n",
       " ('姉', 0.6737965941429138),\n",
       " ('従兄', 0.6686121225357056),\n",
       " ('従兄弟', 0.66241854429245),\n",
       " ('弟', 0.6611291766166687),\n",
       " ('伯父', 0.6521893739700317)]"
      ]
     },
     "execution_count": 18,
     "metadata": {},
     "output_type": "execute_result"
    }
   ],
   "source": [
    "model.most_similar(positive=['姪', '男性'], negative=['女性'])"
   ]
  },
  {
   "cell_type": "code",
   "execution_count": 32,
   "id": "e5260d1d-eb99-4bce-b6a9-2705046d1e0a",
   "metadata": {},
   "outputs": [],
   "source": [
    "import numpy as np\n",
    "s = np.zeros(300)"
   ]
  },
  {
   "cell_type": "code",
   "execution_count": 41,
   "id": "c6db7549-b90e-4371-aa0c-212d2ccee3bd",
   "metadata": {},
   "outputs": [],
   "source": [
    "tokens = tokenizer.tokenize(article)\n",
    "for token in tokens:\n",
    "    s += model.get_vector(token.lstrip('##'))/len(tokens)"
   ]
  },
  {
   "cell_type": "code",
   "execution_count": 42,
   "id": "26b3771c-efba-4374-82c0-0b58ef2e57b4",
   "metadata": {},
   "outputs": [
    {
     "data": {
      "text/plain": [
       "[('、', 0.6536138653755188),\n",
       " ('が', 0.646355926990509),\n",
       " ('の', 0.643427312374115),\n",
       " ('は', 0.6387325525283813),\n",
       " ('た', 0.6232782006263733),\n",
       " ('も', 0.6211928129196167),\n",
       " ('また', 0.6062861680984497),\n",
       " ('て', 0.6060101389884949),\n",
       " ('僕', 0.6050899624824524),\n",
       " ('に', 0.6048243045806885)]"
      ]
     },
     "execution_count": 42,
     "metadata": {},
     "output_type": "execute_result"
    }
   ],
   "source": [
    "model.similar_by_vector(s)"
   ]
  },
  {
   "cell_type": "markdown",
   "id": "76cf8002-2970-4989-822a-3a45d61b98f3",
   "metadata": {},
   "source": [
    "## doc2vec"
   ]
  },
  {
   "cell_type": "code",
   "execution_count": 1,
   "id": "2f1bc09c-640d-42b1-a6c8-67c7d976ab53",
   "metadata": {},
   "outputs": [],
   "source": [
    "from gensim.models.doc2vec import Doc2Vec"
   ]
  },
  {
   "cell_type": "code",
   "execution_count": null,
   "id": "cd00285a-40e6-43c3-8dfe-e57a815ce47e",
   "metadata": {},
   "outputs": [],
   "source": [
    "model = Doc2Vec.load('jawiki.doc2vec.dbow300d.model')"
   ]
  },
  {
   "cell_type": "code",
   "execution_count": null,
   "id": "65b9444a-bd1f-4d24-9905-463fe9693625",
   "metadata": {},
   "outputs": [],
   "source": [
    "model.infer_vector(tokenizer.tokenize(articles))"
   ]
  },
  {
   "cell_type": "code",
   "execution_count": null,
   "id": "05288e1e-1e6d-4a8a-9282-02a27dec10db",
   "metadata": {},
   "outputs": [],
   "source": []
  }
 ],
 "metadata": {
  "kernelspec": {
   "display_name": "Python 3",
   "language": "python",
   "name": "python3"
  },
  "language_info": {
   "codemirror_mode": {
    "name": "ipython",
    "version": 3
   },
   "file_extension": ".py",
   "mimetype": "text/x-python",
   "name": "python",
   "nbconvert_exporter": "python",
   "pygments_lexer": "ipython3",
   "version": "3.8.2"
  }
 },
 "nbformat": 4,
 "nbformat_minor": 5
}
