{
 "cells": [
  {
   "cell_type": "markdown",
   "id": "8129341a-a57f-4b6e-93e2-61e6688d203b",
   "metadata": {},
   "source": [
    "# HuggingFace\n",
    "\n",
    "- 感情分析\n",
    "- 要約\n",
    "- 固有表現抽出"
   ]
  },
  {
   "cell_type": "code",
   "execution_count": 1,
   "id": "cfe68265-2187-4c97-92b2-b3cda6a10cab",
   "metadata": {},
   "outputs": [],
   "source": [
    "import os\n",
    "import sys\n",
    "from pathlib import Path"
   ]
  },
  {
   "cell_type": "code",
   "execution_count": 2,
   "id": "0abae864-95b1-4e9d-a88d-1ec728f00403",
   "metadata": {},
   "outputs": [],
   "source": [
    "sys.path.append(os.path.join(Path().resolve(), '../src'))"
   ]
  },
  {
   "cell_type": "code",
   "execution_count": 3,
   "id": "a0b3c6d4-ce14-43fc-a71b-da24ed5b40ee",
   "metadata": {},
   "outputs": [],
   "source": [
    "from transformers import pipeline"
   ]
  },
  {
   "cell_type": "code",
   "execution_count": 4,
   "id": "ef2e785e-9bcc-4a9f-ae22-c55c0dcf5423",
   "metadata": {},
   "outputs": [],
   "source": [
    "text = '私はお団子が大好き'\n",
    "article = '僕らの生まれてくるずっとずっと前にはもう、アポロ１１号は月に行ったっていうのに。みんながチェック入れてる限定の君の腕時計はデジタル仕様。それって僕のより早く進むって本当かい？ただ壊れてる。'"
   ]
  },
  {
   "cell_type": "markdown",
   "id": "c8626508-fe0c-4959-a4e7-45a9b8b05f2d",
   "metadata": {},
   "source": [
    "## 感情分析\n",
    "\n",
    "- sentiment-analysis"
   ]
  },
  {
   "cell_type": "code",
   "execution_count": 5,
   "id": "b017a203-0fdc-4df6-9d9c-5f2363d69e04",
   "metadata": {},
   "outputs": [],
   "source": [
    "from transformers import AutoModelForSequenceClassification, BertJapaneseTokenizer"
   ]
  },
  {
   "cell_type": "code",
   "execution_count": 6,
   "id": "045755dd-8926-43bf-9b9d-c3b447f29767",
   "metadata": {},
   "outputs": [],
   "source": [
    "model = AutoModelForSequenceClassification.from_pretrained('daigo/bert-base-japanese-sentiment') \n",
    "tokenizer = BertJapaneseTokenizer.from_pretrained('cl-tohoku/bert-base-japanese-whole-word-masking')\n",
    "nlp = pipeline('sentiment-analysis', model=model, tokenizer=tokenizer)"
   ]
  },
  {
   "cell_type": "code",
   "execution_count": 7,
   "id": "7ac4ce71-6586-45d1-9bd6-ba17af1cabeb",
   "metadata": {},
   "outputs": [
    {
     "data": {
      "text/plain": [
       "[{'label': 'ポジティブ', 'score': 0.9902593493461609}]"
      ]
     },
     "execution_count": 7,
     "metadata": {},
     "output_type": "execute_result"
    }
   ],
   "source": [
    "nlp(text)"
   ]
  },
  {
   "cell_type": "code",
   "execution_count": 8,
   "id": "49482dfc-4934-4249-830f-f9d13ff5328b",
   "metadata": {},
   "outputs": [
    {
     "data": {
      "text/plain": [
       "[{'label': 'ポジティブ', 'score': 0.7932798266410828}]"
      ]
     },
     "execution_count": 8,
     "metadata": {},
     "output_type": "execute_result"
    }
   ],
   "source": [
    "nlp(article)"
   ]
  },
  {
   "cell_type": "code",
   "execution_count": 9,
   "id": "c523fa79-7fc2-454f-b927-4a2bb352dbcc",
   "metadata": {},
   "outputs": [
    {
     "data": {
      "text/plain": [
       "[{'label': 'ポジティブ', 'score': 0.9564887285232544}]"
      ]
     },
     "execution_count": 9,
     "metadata": {},
     "output_type": "execute_result"
    }
   ],
   "source": [
    "nlp('爆ぜろリアル、はじけろシナプス')"
   ]
  },
  {
   "cell_type": "markdown",
   "id": "92648471-2f63-4920-ab58-9de208beb1a6",
   "metadata": {},
   "source": [
    "## 特徴ベクトル\n",
    "\n",
    "- feature-extraction"
   ]
  },
  {
   "cell_type": "code",
   "execution_count": 10,
   "id": "7808a3e1-f6c7-4359-846f-37e37467ea5e",
   "metadata": {},
   "outputs": [],
   "source": [
    "from transformers import AutoTokenizer, AutoModel"
   ]
  },
  {
   "cell_type": "code",
   "execution_count": 11,
   "id": "5e0f53f3-83e1-4274-8fd4-325db1b683a7",
   "metadata": {},
   "outputs": [],
   "source": [
    "# model = AutoModel.from_pretrained('distilbert-base-uncased')\n",
    "# tokenizer = AutoTokenizer.from_pretrained('distilbert-base-uncased')\n",
    "# nlp = pipeline('feature-extraction', model=model, tokenizer=tokenizer)"
   ]
  },
  {
   "cell_type": "markdown",
   "id": "aea4fb9c-c4a2-4dbb-a9e4-ba85fe2f9820",
   "metadata": {},
   "source": [
    "## 要約\n",
    "\n",
    "- summarization\n",
    "\n",
    "fine-tuningしたモデルを作成しないといけないので、少々大変。"
   ]
  },
  {
   "cell_type": "code",
   "execution_count": 12,
   "id": "626aed68-6d26-45b0-bca2-0fdfa52df360",
   "metadata": {},
   "outputs": [],
   "source": [
    "from transformers import T5ForConditionalGeneration, T5Tokenizer"
   ]
  },
  {
   "cell_type": "code",
   "execution_count": 13,
   "id": "0912c283-3c4f-40a6-8441-f36dbeb5ef3b",
   "metadata": {},
   "outputs": [],
   "source": [
    "model = T5ForConditionalGeneration.from_pretrained('sonoisa/t5-base-japanese')\n",
    "tokenizer = T5Tokenizer.from_pretrained('sonoisa/t5-base-japanese')\n",
    "summarizer = pipeline('summarization', model=model, tokenizer=tokenizer)"
   ]
  },
  {
   "cell_type": "code",
   "execution_count": 14,
   "id": "4f06ad4c-0e5a-4b19-bd15-c7e5d708fa75",
   "metadata": {},
   "outputs": [
    {
     "name": "stderr",
     "output_type": "stream",
     "text": [
      "/usr/local/lib/python3.8/site-packages/torch/_tensor.py:575: UserWarning: floor_divide is deprecated, and will be removed in a future version of pytorch. It currently rounds toward 0 (like the 'trunc' function NOT 'floor'). This results in incorrect rounding for negative values.\n",
      "To keep the current behavior, use torch.div(a, b, rounding_mode='trunc'), or for actual floor division, use torch.div(a, b, rounding_mode='floor'). (Triggered internally at  /pytorch/aten/src/ATen/native/BinaryOps.cpp:467.)\n",
      "  return torch.floor_divide(self, other)\n"
     ]
    },
    {
     "data": {
      "text/plain": [
       "[{'summary_text': '。月に行ったっていうのに。。。。。。。。。。。。。。。。。。。。。'}]"
      ]
     },
     "execution_count": 14,
     "metadata": {},
     "output_type": "execute_result"
    }
   ],
   "source": [
    "summarizer(article, max_length=30)"
   ]
  },
  {
   "cell_type": "markdown",
   "id": "e16521c9-aa69-4ce8-8243-b2259f2d5838",
   "metadata": {},
   "source": [
    "## 固有表現\n",
    "\n",
    "- ner\n",
    "\n",
    "個人、組織、場所などの固有表現を分類する"
   ]
  },
  {
   "cell_type": "code",
   "execution_count": null,
   "id": "f0085674-83c1-4aba-a8a4-a15191bff068",
   "metadata": {},
   "outputs": [],
   "source": []
  }
 ],
 "metadata": {
  "kernelspec": {
   "display_name": "Python 3",
   "language": "python",
   "name": "python3"
  },
  "language_info": {
   "codemirror_mode": {
    "name": "ipython",
    "version": 3
   },
   "file_extension": ".py",
   "mimetype": "text/x-python",
   "name": "python",
   "nbconvert_exporter": "python",
   "pygments_lexer": "ipython3",
   "version": "3.8.2"
  }
 },
 "nbformat": 4,
 "nbformat_minor": 5
}
